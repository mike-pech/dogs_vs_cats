{
 "cells": [
  {
   "cell_type": "code",
   "execution_count": 57,
   "metadata": {},
   "outputs": [],
   "source": [
    "import threading\n",
    "\n",
    "import torch\n",
    "from torchvision.transforms import transforms\n",
    "import torch.nn as nn\n",
    "from torchvision.io import read_image\n",
    "from torch.utils.data import Dataset, DataLoader\n",
    "import pathlib \n",
    "from pathlib import Path\n",
    "import pandas as pd"
   ]
  },
  {
   "cell_type": "code",
   "execution_count": 48,
   "metadata": {},
   "outputs": [],
   "source": [
    "class CatDog(Dataset):\n",
    "\n",
    "    def __init__(self, dataset_path: pathlib.Path):\n",
    "        self.dataset_path = Path(dataset_path)\n",
    "        self.image_paths = self.dataset_path.glob(\"*.jpg\") \n",
    "\n",
    "        # self.data = {\"cats\" : [], \"dogs\" : []}\n",
    "\n",
    "        # for ip in self.image_paths:\n",
    "        #     if \"cat\" == ip.name[:3]:\n",
    "        #         self.data[\"cats\"].append(ip.read_bytes())\n",
    "        #     elif \"dog\" == ip.name[:3]:\n",
    "        #         self.data[\"dogs\"].append(ip.read_bytes())\n",
    "\n",
    "        # Legacy support\n",
    "        self.data_list = list(self.image_paths)\n",
    "        # self.data_class = [\"cat\", \"dog\"]\n",
    "\n",
    "        self.transform_func = transforms.Compose([\n",
    "             transforms.ToPILImage(),\n",
    "             transforms.Grayscale(),\n",
    "             transforms.Resize((124, 124)),\n",
    "             transforms.ToTensor()\n",
    "        ])\n",
    "\n",
    "    def __len__(self):\n",
    "        return len(self.data_list)\n",
    "    \n",
    "    def __getitem__(self, index):\n",
    "        img_path = self.data_list[index]\n",
    "        # img_label = 0 if self.data_list[index].name[:3] == \"cat\" else 1\n",
    "        img_label = torch.zeros(2)\n",
    "        img_label[0 if self.data_list[index].name[:3] == \"cat\" else 1] = 1.0 \n",
    "        img_tensor = read_image(str(img_path))\n",
    "        return self.transform_func(img_tensor), img_label\n",
    "    "
   ]
  },
  {
   "cell_type": "markdown",
   "metadata": {},
   "source": [
    "### Дебажные клетки на случай ненахода датасета нейронкой"
   ]
  },
  {
   "cell_type": "code",
   "execution_count": 49,
   "metadata": {},
   "outputs": [
    {
     "data": {
      "text/plain": [
       "25000"
      ]
     },
     "execution_count": 49,
     "metadata": {},
     "output_type": "execute_result"
    }
   ],
   "source": [
    "dataset_path = Path(\"./train/\")\n",
    "image_paths = dataset_path.glob(\"*.jpg\") \n",
    "data_list = list(image_paths)\n",
    "len(data_list)"
   ]
  },
  {
   "cell_type": "code",
   "execution_count": 50,
   "metadata": {},
   "outputs": [
    {
     "name": "stdout",
     "output_type": "stream",
     "text": [
      "dog.2035.jpg\n",
      "dog.11155.jpg\n",
      "cat.10367.jpg\n",
      "dog.3833.jpg\n",
      "dog.10595.jpg\n",
      "cat.9537.jpg\n",
      "cat.7275.jpg\n",
      "dog.9825.jpg\n",
      "cat.537.jpg\n",
      "cat.5289.jpg\n"
     ]
    }
   ],
   "source": [
    "for p in data_list[:10]:\n",
    "    print(p.name)"
   ]
  },
  {
   "cell_type": "code",
   "execution_count": 51,
   "metadata": {},
   "outputs": [],
   "source": [
    "class CVModel(nn.Module):\n",
    "\n",
    "    def __init__(self):\n",
    "        super(CVModel, self).__init__()\n",
    "        self.conv_1 = nn.Conv2d(1, 32, (5, 5))\n",
    "        self.conv_2 = nn.Conv2d(32, 64, (5, 5))\n",
    "        self.pool_1 = nn.MaxPool2d((2, 2))\n",
    "        self.conv_3 = nn.Conv2d(64, 128, (5, 5))\n",
    "        # self.conv_4 = nn.Conv2d(128, 128, (3, 3))\n",
    "        self.pool_2 = nn. MaxPool2d((2, 2))\n",
    "        self.glob_pool = nn.MaxPool2d((27, 27))\n",
    "        self.linear = nn.Linear(128, 2) #2 классa\n",
    "        self.softmax = nn.Softmax(dim=0)\n",
    "\n",
    "    def forward(self, X):\n",
    "        res = self.conv_1(X)\n",
    "        res = self.conv_2(res)\n",
    "        res = self.pool_1(res)\n",
    "        res = self.conv_3(res)\n",
    "        # res = self.conv_4(res)\n",
    "        res = self.pool_2(res)\n",
    "        res = self.glob_pool(res) #(1, 1, 128)\n",
    "        res = self.linear(res.view(-1, 128)) #Сокращение размерности до (128)\n",
    "        return self.softmax(res)"
   ]
  },
  {
   "cell_type": "code",
   "execution_count": 52,
   "metadata": {},
   "outputs": [],
   "source": [
    "path = pathlib.Path(r'./train/')\n",
    "loss = nn.BCELoss() #работает только со скалярами (либо просто энтропию)\n",
    "dataset = CatDog(path)\n",
    "model = CVModel()\n",
    "trainloader = DataLoader(dataset, batch_size=32, shuffle=True)\n",
    "optimizer = torch.optim.Adam(params=model.parameters())"
   ]
  },
  {
   "cell_type": "code",
   "execution_count": 53,
   "metadata": {},
   "outputs": [],
   "source": [
    "def train_one_epoch(epoch, trainloader, optimizer, model, loss, dataset):\n",
    "    correct = 0\n",
    "    epoch_loss = 0.0 \n",
    "    for i, data in enumerate(trainloader, 0):\n",
    "        x, y = data\n",
    "        optimizer.zero_grad()\n",
    "        outputs = model(x)\n",
    "        # print(outputs[0])\n",
    "        error = loss(outputs, y)\n",
    "        error.backward()\n",
    "        epoch_loss += outputs.shape[0] * error.item()\n",
    "        optimizer.step()\n",
    "        outputs = (outputs > 0.5).float()\n",
    "        # print(f\"outputs: {outputs.shape}\\n\\ny: {y.shape}\")\n",
    "        correct += (outputs == y).float().sum()\n",
    "\n",
    "    print(f'TRAIN [{epoch + 1}] loss: {epoch_loss/ dataset.__len__():.3f}')"
   ]
  },
  {
   "cell_type": "code",
   "execution_count": 54,
   "metadata": {},
   "outputs": [],
   "source": [
    "def network_call():\n",
    "    for epoch in range(10):\n",
    "        train_one_epoch(epoch, trainloader, optimizer, model, loss, dataset)\n",
    "\n",
    "threading.Thread(target=network_call).start()"
   ]
  },
  {
   "cell_type": "code",
   "execution_count": 55,
   "metadata": {},
   "outputs": [],
   "source": [
    "class TestCatDog(CatDog):\n",
    "\n",
    "    def __getitem__(self, index):\n",
    "        img_id = self.data_list[index].name\n",
    "        img_path = self.data_list[index] \n",
    "        img_tensor = read_image(str(img_path))\n",
    "        return self.transform_func(img_tensor), img_id\n"
   ]
  },
  {
   "cell_type": "code",
   "execution_count": 56,
   "metadata": {},
   "outputs": [
    {
     "name": "stderr",
     "output_type": "stream",
     "text": [
      "Exception in thread Thread-8 (network_call):\n",
      "Traceback (most recent call last):\n",
      "  File \"/usr/lib/python3.10/threading.py\", line 1016, in _bootstrap_inner\n",
      "    self.run()\n",
      "  File \"/usr/lib/python3.10/threading.py\", line 953, in run\n",
      "    self._target(*self._args, **self._kwargs)\n",
      "  File \"/tmp/ipykernel_348835/4291631677.py\", line 6, in network_call\n",
      "NameError: name 'pd' is not defined. Did you mean: 'p'?\n"
     ]
    }
   ],
   "source": [
    "testpath = pathlib.Path(r\"./test1/\")\n",
    "dataset = TestCatDog(testpath)\n",
    "for data in dataset:\n",
    "    img, img_id = data\n",
    "    predictions = pd.DataFrame({\n",
    "            \"ImageID\": img_id,\n",
    "            \"Dog\": model(img)\n",
    "        })\n",
    "predictions.to_csv('catdog.csv', index=False)\n",
    "#threading.Thread(target=network_call).start()"
   ]
  },
  {
   "cell_type": "code",
   "execution_count": null,
   "metadata": {},
   "outputs": [],
   "source": []
  }
 ],
 "metadata": {
  "kernelspec": {
   "display_name": "Python 3 (ipykernel)",
   "language": "python",
   "name": "python3"
  },
  "language_info": {
   "codemirror_mode": {
    "name": "ipython",
    "version": 3
   },
   "file_extension": ".py",
   "mimetype": "text/x-python",
   "name": "python",
   "nbconvert_exporter": "python",
   "pygments_lexer": "ipython3",
   "version": "3.10.12"
  }
 },
 "nbformat": 4,
 "nbformat_minor": 4
}
