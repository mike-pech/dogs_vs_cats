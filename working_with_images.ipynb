{
 "cells": [
  {
   "cell_type": "code",
   "execution_count": 73,
   "metadata": {},
   "outputs": [],
   "source": [
    "import torch\n",
    "from torchvision.transforms import transforms\n",
    "import torch.nn as nn\n",
    "from torchvision.io import read_image\n",
    "from torch.utils.data import Dataset, DataLoader\n",
    "import pathlib \n",
    "from pathlib import Path"
   ]
  },
  {
   "cell_type": "code",
   "execution_count": 74,
   "metadata": {},
   "outputs": [],
   "source": [
    "class CatDog(Dataset):\n",
    "\n",
    "    def __init__(self, dataset_path: pathlib.Path):\n",
    "        self.dataset_path = Path(dataset_path)\n",
    "        self.image_paths = self.dataset_path.glob(\"*.jpg\") \n",
    "\n",
    "        # self.data = {\"cats\" : [], \"dogs\" : []}\n",
    "\n",
    "        # for ip in self.image_paths:\n",
    "        #     if \"cat\" == ip.name[:3]:\n",
    "        #         self.data[\"cats\"].append(ip.read_bytes())\n",
    "        #     elif \"dog\" == ip.name[:3]:\n",
    "        #         self.data[\"dogs\"].append(ip.read_bytes())\n",
    "\n",
    "        # Legacy support\n",
    "        self.data_list = list(self.image_paths)\n",
    "        # self.data_class = [\"cat\", \"dog\"]\n",
    "\n",
    "        self.transform_func = transforms.Compose([\n",
    "             transforms.ToPILImage(),\n",
    "             transforms.Grayscale(),\n",
    "             transforms.Resize((124, 124)),\n",
    "             transforms.ToTensor()\n",
    "        ])\n",
    "\n",
    "    def __len__(self):\n",
    "        return len(self.data_list)\n",
    "    \n",
    "    def __getitem__(self, index):\n",
    "        img_path = self.data_list[index]\n",
    "        img_label = 0 if self.data_list[index].name[:3] == \"cat\" else 1\n",
    "        img_tensor = read_image(str(img_path))\n",
    "        return self.transform_func(img_tensor), img_label\n",
    "    "
   ]
  },
  {
   "cell_type": "markdown",
   "metadata": {},
   "source": [
    "### Дебажные клетки на случай ненахода датасета нейронкой"
   ]
  },
  {
   "cell_type": "code",
   "execution_count": 75,
   "metadata": {},
   "outputs": [
    {
     "data": {
      "text/plain": [
       "25000"
      ]
     },
     "execution_count": 75,
     "metadata": {},
     "output_type": "execute_result"
    }
   ],
   "source": [
    "dataset_path = Path(\"./train/\")\n",
    "image_paths = dataset_path.glob(\"*.jpg\") \n",
    "data_list = list(image_paths)\n",
    "len(data_list)"
   ]
  },
  {
   "cell_type": "code",
   "execution_count": 76,
   "metadata": {},
   "outputs": [
    {
     "name": "stdout",
     "output_type": "stream",
     "text": [
      "cat.11338.jpg\n",
      "dog.9276.jpg\n",
      "cat.8034.jpg\n",
      "dog.5303.jpg\n",
      "cat.11569.jpg\n",
      "cat.12272.jpg\n",
      "cat.4679.jpg\n",
      "dog.6976.jpg\n",
      "dog.9670.jpg\n",
      "cat.3341.jpg\n"
     ]
    }
   ],
   "source": [
    "for p in data_list[:10]:\n",
    "    print(p.name)"
   ]
  },
  {
   "cell_type": "code",
   "execution_count": 109,
   "metadata": {},
   "outputs": [],
   "source": [
    "class CVModel(nn.Module):\n",
    "\n",
    "    def __init__(self):\n",
    "        super(CVModel, self).__init__()\n",
    "        self.conv_1 = nn.Conv2d(1, 32, (3, 3))\n",
    "        self.conv_2 = nn.Conv2d(32, 64, (3, 3))\n",
    "        self.pool_1 = nn.MaxPool2d((2, 2))\n",
    "        self.conv_3 = nn.Conv2d(64, 128, (3, 3))\n",
    "        self.conv_4 = nn.Conv2d(128, 128, (3, 3))\n",
    "        self.pool_2 = nn. MaxPool2d((2, 2))\n",
    "        self.glob_pool = nn.MaxPool2d((28, 28))\n",
    "        self.linear = nn.Linear(128, 2) #2 классa\n",
    "        self.softmax = nn.Softmax()\n",
    "\n",
    "    def forward(self, X):\n",
    "        res = self.conv_1(X)\n",
    "        res = self.conv_2(res)\n",
    "        res = self.pool_1(res)\n",
    "        res = self.conv_3(res)\n",
    "        res = self.conv_4(res)\n",
    "        res = self.pool_2(res)\n",
    "        res = self.glob_pool(res) #(1, 1, 128)\n",
    "        res = self.linear(res.view(-1, 128)) #Сокращение размерности до (128)\n",
    "        return self.softmax(res)"
   ]
  },
  {
   "cell_type": "code",
   "execution_count": 171,
   "metadata": {},
   "outputs": [],
   "source": [
    "path = pathlib.Path(r'./train/')\n",
    "loss = nn.CrossEntropyLoss() #работает только со скалярами (либо просто энтропию)\n",
    "dataset = CatDog(path)\n",
    "model = CVModel()\n",
    "trainloader = DataLoader(dataset, batch_size=32, shuffle=True)\n",
    "optimizer = torch.optim.Adam(params=model.parameters())"
   ]
  },
  {
   "cell_type": "code",
   "execution_count": 174,
   "metadata": {},
   "outputs": [],
   "source": [
    "def train_one_epoch(epoch, trainloader, optimizer, model, loss, dataset):\n",
    "    correct = 0\n",
    "    epoch_loss = 0.0 \n",
    "    for i, data in enumerate(trainloader, 0):\n",
    "        x, y = data\n",
    "        optimizer.zero_grad()\n",
    "        outputs = model(x)\n",
    "        error = loss(outputs, y)\n",
    "        error.backward()\n",
    "        epoch_loss += outputs.shape[0] * error.item()\n",
    "        optimizer.step()\n",
    "        outputs = (outputs > 0.5).float()\n",
    "        # print(f\"outputs: {outputs.shape}\\n\\ny: {y.shape}\")\n",
    "        correct += (outputs == y).float().sum()\n",
    "\n",
    "    print(f'TRAIN [{epoch + 1}] loss: {epoch_loss/ dataset.__len__():.3f}')"
   ]
  },
  {
   "cell_type": "code",
   "execution_count": 175,
   "metadata": {},
   "outputs": [
    {
     "ename": "RuntimeError",
     "evalue": "The size of tensor a (2) must match the size of tensor b (32) at non-singleton dimension 1",
     "output_type": "error",
     "traceback": [
      "\u001b[0;31m---------------------------------------------------------------------------\u001b[0m",
      "\u001b[0;31mRuntimeError\u001b[0m                              Traceback (most recent call last)",
      "\u001b[1;32m/home/mickey-pech/Python/dogs_vs_cats/working_with_images.ipynb Cell 9\u001b[0m line \u001b[0;36m2\n\u001b[1;32m      <a href='vscode-notebook-cell://wsl%2Bubuntu/home/mickey-pech/Python/dogs_vs_cats/working_with_images.ipynb#X12sdnNjb2RlLXJlbW90ZQ%3D%3D?line=0'>1</a>\u001b[0m \u001b[39mfor\u001b[39;00m epoch \u001b[39min\u001b[39;00m \u001b[39mrange\u001b[39m(\u001b[39m1\u001b[39m):\n\u001b[0;32m----> <a href='vscode-notebook-cell://wsl%2Bubuntu/home/mickey-pech/Python/dogs_vs_cats/working_with_images.ipynb#X12sdnNjb2RlLXJlbW90ZQ%3D%3D?line=1'>2</a>\u001b[0m     train_one_epoch(epoch, trainloader, optimizer, model, loss, dataset)\n",
      "\u001b[1;32m/home/mickey-pech/Python/dogs_vs_cats/working_with_images.ipynb Cell 9\u001b[0m line \u001b[0;36m1\n\u001b[1;32m     <a href='vscode-notebook-cell://wsl%2Bubuntu/home/mickey-pech/Python/dogs_vs_cats/working_with_images.ipynb#X12sdnNjb2RlLXJlbW90ZQ%3D%3D?line=11'>12</a>\u001b[0m     outputs \u001b[39m=\u001b[39m (outputs \u001b[39m>\u001b[39m \u001b[39m0.5\u001b[39m)\u001b[39m.\u001b[39mfloat()\n\u001b[1;32m     <a href='vscode-notebook-cell://wsl%2Bubuntu/home/mickey-pech/Python/dogs_vs_cats/working_with_images.ipynb#X12sdnNjb2RlLXJlbW90ZQ%3D%3D?line=12'>13</a>\u001b[0m     \u001b[39m# print(f\"outputs: {outputs.shape}\\n\\ny: {y.shape}\")\u001b[39;00m\n\u001b[0;32m---> <a href='vscode-notebook-cell://wsl%2Bubuntu/home/mickey-pech/Python/dogs_vs_cats/working_with_images.ipynb#X12sdnNjb2RlLXJlbW90ZQ%3D%3D?line=13'>14</a>\u001b[0m     correct \u001b[39m+\u001b[39m\u001b[39m=\u001b[39m (outputs \u001b[39m==\u001b[39;49m y)\u001b[39m.\u001b[39mfloat()\u001b[39m.\u001b[39msum()\n\u001b[1;32m     <a href='vscode-notebook-cell://wsl%2Bubuntu/home/mickey-pech/Python/dogs_vs_cats/working_with_images.ipynb#X12sdnNjb2RlLXJlbW90ZQ%3D%3D?line=15'>16</a>\u001b[0m \u001b[39mprint\u001b[39m(\u001b[39mf\u001b[39m\u001b[39m'\u001b[39m\u001b[39mTRAIN [\u001b[39m\u001b[39m{\u001b[39;00mepoch\u001b[39m \u001b[39m\u001b[39m+\u001b[39m\u001b[39m \u001b[39m\u001b[39m1\u001b[39m\u001b[39m}\u001b[39;00m\u001b[39m] loss: \u001b[39m\u001b[39m{\u001b[39;00mepoch_loss\u001b[39m/\u001b[39m\u001b[39m \u001b[39mdataset\u001b[39m.\u001b[39m\u001b[39m__len__\u001b[39m()\u001b[39m:\u001b[39;00m\u001b[39m.3f\u001b[39m\u001b[39m}\u001b[39;00m\u001b[39m'\u001b[39m)\n",
      "\u001b[0;31mRuntimeError\u001b[0m: The size of tensor a (2) must match the size of tensor b (32) at non-singleton dimension 1"
     ]
    }
   ],
   "source": [
    "for epoch in range(1):\n",
    "    train_one_epoch(epoch, trainloader, optimizer, model, loss, dataset)"
   ]
  },
  {
   "cell_type": "code",
   "execution_count": null,
   "metadata": {},
   "outputs": [],
   "source": []
  }
 ],
 "metadata": {
  "kernelspec": {
   "display_name": "Python 3",
   "language": "python",
   "name": "python3"
  },
  "language_info": {
   "codemirror_mode": {
    "name": "ipython",
    "version": 3
   },
   "file_extension": ".py",
   "mimetype": "text/x-python",
   "name": "python",
   "nbconvert_exporter": "python",
   "pygments_lexer": "ipython3",
   "version": "3.10.11"
  }
 },
 "nbformat": 4,
 "nbformat_minor": 2
}
